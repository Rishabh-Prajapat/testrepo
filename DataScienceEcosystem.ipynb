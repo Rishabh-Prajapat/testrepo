{
 "cells": [
  {
   "cell_type": "markdown",
   "id": "fede9229-559e-4b6f-894e-10691e2c27cc",
   "metadata": {},
   "source": [
    "# Data Science Tools and Eccosystem\n"
   ]
  },
  {
   "cell_type": "markdown",
   "id": "29096ec5-829e-40f9-810d-21183361a200",
   "metadata": {},
   "source": [
    "In this notebook, Data Science Tools and Ecosystem are summarized."
   ]
  },
  {
   "cell_type": "markdown",
   "id": "0ecc5ac9-cdac-4015-b65e-5fd767181ed3",
   "metadata": {},
   "source": [
    "Some of the popular languages that Data Scientists use are:\n",
    "1. Python\n",
    "1. PERL\n",
    "1. Ruby"
   ]
  },
  {
   "cell_type": "markdown",
   "id": "17e3ab38-80f4-46a2-a328-ba810067ca3f",
   "metadata": {},
   "source": [
    "Some of the commonly used libraries used by Data Scientists include:\n",
    "1. Pandas\n",
    "2. Numpy\n",
    "3. Keras"
   ]
  },
  {
   "cell_type": "markdown",
   "id": "ad2092dd-f5f6-4c49-a769-9c1a0fde637e",
   "metadata": {},
   "source": [
    "| DS TOOLS | \n",
    "| -------- |\n",
    "| Jupyter Notebook |\n",
    "| Apache Spark |\n",
    "| TensorFlow |\n",
    "\n"
   ]
  },
  {
   "cell_type": "markdown",
   "id": "8066987e-07da-48b3-afd9-6e5028598f5d",
   "metadata": {},
   "source": [
    "### Below are a few examples of evaluating arithmetic expression in python"
   ]
  },
  {
   "cell_type": "markdown",
   "id": "5bcb6e52-f3a2-4145-9fb0-3d264bc7d6eb",
   "metadata": {},
   "source": [
    "1. $a^2 + b^2 + 2ab = (a+b)^2$\n",
    "2. $a^2 + b^2 - 2ab = (a-b)^2$"
   ]
  },
  {
   "cell_type": "code",
   "execution_count": 12,
   "id": "3d27f380-cc21-4f86-8ca1-bb3d26d84c94",
   "metadata": {},
   "outputs": [
    {
     "data": {
      "text/plain": [
       "17"
      ]
     },
     "execution_count": 12,
     "metadata": {},
     "output_type": "execute_result"
    }
   ],
   "source": [
    "#This a simple arithmetic expression to multiply then add integers\n",
    "(3*4)+5"
   ]
  },
  {
   "cell_type": "code",
   "execution_count": 13,
   "id": "9a97de00-2cbf-4b10-a1ed-1a002c62db33",
   "metadata": {},
   "outputs": [
    {
     "name": "stdout",
     "output_type": "stream",
     "text": [
      "200 minutes in hours is 3 hours 20 minutes.\n"
     ]
    }
   ],
   "source": [
    "#This will convert 200 minutes to hours by dividing by 60\n",
    "y=200%60\n",
    "x=200/60\n",
    "print('200 minutes in hours is', int(x), 'hours',y, 'minutes.')"
   ]
  },
  {
   "cell_type": "markdown",
   "id": "63df3e1f-e1d7-4379-ac11-2a00a0f8f82c",
   "metadata": {},
   "source": [
    "### Objectives:"
   ]
  },
  {
   "cell_type": "markdown",
   "id": "38155a36-39dc-45dd-bf33-7dbbe580591c",
   "metadata": {},
   "source": [
    "- Tools used in pythons\n",
    "- List of popular languages in Data Science\n",
    "- List of Data Science lib\n",
    "- Using of markdown cells\n",
    "  "
   ]
  },
  {
   "cell_type": "markdown",
   "id": "a91871b7-9182-48bc-ae2c-56affb3fc653",
   "metadata": {},
   "source": [
    "## Author\n",
    "Rishabh Prajapati\n"
   ]
  },
  {
   "cell_type": "code",
   "execution_count": null,
   "id": "9a108126-baa9-4933-add6-0d2d602bdf79",
   "metadata": {},
   "outputs": [],
   "source": []
  }
 ],
 "metadata": {
  "kernelspec": {
   "display_name": "Python 3 (ipykernel)",
   "language": "python",
   "name": "python3"
  },
  "language_info": {
   "codemirror_mode": {
    "name": "ipython",
    "version": 3
   },
   "file_extension": ".py",
   "mimetype": "text/x-python",
   "name": "python",
   "nbconvert_exporter": "python",
   "pygments_lexer": "ipython3",
   "version": "3.12.2"
  }
 },
 "nbformat": 4,
 "nbformat_minor": 5
}
